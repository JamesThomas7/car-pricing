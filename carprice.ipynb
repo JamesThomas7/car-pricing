{
  "nbformat": 4,
  "nbformat_minor": 0,
  "metadata": {
    "colab": {
      "provenance": []
    },
    "kernelspec": {
      "name": "python3",
      "display_name": "Python 3"
    },
    "language_info": {
      "name": "python"
    }
  },
  "cells": [
    {
      "cell_type": "code",
      "execution_count": null,
      "metadata": {
        "colab": {
          "base_uri": "https://localhost:8080/"
        },
        "id": "KeMUPPv4PVJE",
        "outputId": "ac908150-3596-4b5d-eded-df5c655c8360"
      },
      "outputs": [
        {
          "output_type": "stream",
          "name": "stdout",
          "text": [
            "car_ID              0\n",
            "symboling           0\n",
            "fueltype            0\n",
            "aspiration          0\n",
            "doornumber          0\n",
            "carbody             0\n",
            "drivewheel          0\n",
            "enginelocation      0\n",
            "wheelbase           0\n",
            "carlength           0\n",
            "carwidth            0\n",
            "carheight           0\n",
            "curbweight          0\n",
            "enginetype          0\n",
            "cylindernumber      0\n",
            "enginesize          0\n",
            "fuelsystem          0\n",
            "boreratio           0\n",
            "stroke              0\n",
            "compressionratio    0\n",
            "horsepower          0\n",
            "peakrpm             0\n",
            "citympg             0\n",
            "highwaympg          0\n",
            "price               0\n",
            "dtype: int64\n"
          ]
        },
        {
          "output_type": "stream",
          "name": "stderr",
          "text": [
            "<ipython-input-33-84675b32635f>:9: FutureWarning: The default value of numeric_only in DataFrame.mean is deprecated. In a future version, it will default to False. In addition, specifying 'numeric_only=None' is deprecated. Select only valid columns or specify the value of numeric_only to silence this warning.\n",
            "  df.fillna(df.mean(), inplace=True)\n"
          ]
        }
      ],
      "source": [
        "import pandas as pd\n",
        "from sklearn.model_selection import train_test_split\n",
        "from sklearn.linear_model import LinearRegression\n",
        "from sklearn.metrics import mean_squared_error,r2_score\n",
        "from sklearn.preprocessing import StandardScaler\n",
        "df=pd.read_csv('CarPrice_Assignment.csv')\n",
        "df.drop(columns=['CarName'],inplace=True)\n",
        "print(df.isnull().sum())\n",
        "df.fillna(df.mean(), inplace=True)"
      ]
    },
    {
      "cell_type": "code",
      "source": [
        "#no null values\n",
        "#convert catgorical variables into one hot encoder\n",
        "categorical_variables=[\"fueltype\", \"aspiration\", \"doornumber\", \"carbody\", \"drivewheel\", \"enginelocation\",\"enginetype\",\"cylindernumber\",\"fuelsystem\"]\n",
        "df=pd.get_dummies(df,columns=categorical_variables,drop_first=True)\n",
        "print(df.head())"
      ],
      "metadata": {
        "colab": {
          "base_uri": "https://localhost:8080/"
        },
        "id": "qYyJD8fMZEsg",
        "outputId": "34e7d704-7d82-45b3-de93-a4d11d7860b4"
      },
      "execution_count": null,
      "outputs": [
        {
          "output_type": "stream",
          "name": "stdout",
          "text": [
            "   car_ID  symboling  wheelbase  carlength  carwidth  carheight  curbweight  \\\n",
            "0       1          3       88.6      168.8      64.1       48.8        2548   \n",
            "1       2          3       88.6      168.8      64.1       48.8        2548   \n",
            "2       3          1       94.5      171.2      65.5       52.4        2823   \n",
            "3       4          2       99.8      176.6      66.2       54.3        2337   \n",
            "4       5          2       99.4      176.6      66.4       54.3        2824   \n",
            "\n",
            "   enginesize  boreratio  stroke  ...  cylindernumber_three  \\\n",
            "0         130       3.47    2.68  ...                     0   \n",
            "1         130       3.47    2.68  ...                     0   \n",
            "2         152       2.68    3.47  ...                     0   \n",
            "3         109       3.19    3.40  ...                     0   \n",
            "4         136       3.19    3.40  ...                     0   \n",
            "\n",
            "   cylindernumber_twelve  cylindernumber_two  fuelsystem_2bbl  \\\n",
            "0                      0                   0                0   \n",
            "1                      0                   0                0   \n",
            "2                      0                   0                0   \n",
            "3                      0                   0                0   \n",
            "4                      0                   0                0   \n",
            "\n",
            "   fuelsystem_4bbl  fuelsystem_idi  fuelsystem_mfi  fuelsystem_mpfi  \\\n",
            "0                0               0               0                1   \n",
            "1                0               0               0                1   \n",
            "2                0               0               0                1   \n",
            "3                0               0               0                1   \n",
            "4                0               0               0                1   \n",
            "\n",
            "   fuelsystem_spdi  fuelsystem_spfi  \n",
            "0                0                0  \n",
            "1                0                0  \n",
            "2                0                0  \n",
            "3                0                0  \n",
            "4                0                0  \n",
            "\n",
            "[5 rows x 45 columns]\n"
          ]
        }
      ]
    },
    {
      "cell_type": "code",
      "source": [
        "X = df.drop(columns=[\"price\"])\n",
        "y = df[\"price\"]\n",
        "scaler = StandardScaler()\n",
        "X_scaled = scaler.fit_transform(X)\n",
        "X_train,X_test,y_train,y_test=train_test_split(X,y,test_size=0.2,random_state=42)\n",
        "model=LinearRegression()\n",
        "model.fit(X_train,y_train)\n",
        "y_pred=model.predict(X_test)\n",
        "squared_error=mean_squared_error(y_test,y_pred)\n",
        "r_squared=r2_score(y_test,y_pred)\n",
        "print(\"Mean Squared Error:\", squared_error)\n",
        "print(\"R-squared:\", r_squared)\n",
        "\n",
        "# Print the coefficients of the model\n",
        "coefficients = dict(zip(categorical_variables, model.coef_))\n",
        "print(\"Coefficients:\", coefficients)\n",
        "print(\"Intercept:\", model.intercept_)\n"
      ],
      "metadata": {
        "colab": {
          "base_uri": "https://localhost:8080/"
        },
        "id": "piEaD9osZYpZ",
        "outputId": "55873eab-697f-4083-d307-d7c03b5c4e47"
      },
      "execution_count": null,
      "outputs": [
        {
          "output_type": "stream",
          "name": "stdout",
          "text": [
            "Mean Squared Error: 7852574.203817808\n",
            "R-squared: 0.9005298423323499\n",
            "Coefficients: {'fueltype': -17.390634779702697, 'aspiration': 101.93042210982442, 'doornumber': 98.82695925924223, 'carbody': -78.22275078592749, 'drivewheel': 660.4160841491821, 'enginelocation': 206.11424316634825, 'enginetype': 5.156732147703056, 'cylindernumber': 99.05209619154158, 'fuelsystem': -1412.9781781993215}\n",
            "Intercept: -49568.353476165255\n"
          ]
        }
      ]
    },
    {
      "cell_type": "code",
      "source": [],
      "metadata": {
        "id": "1OZ3MHkYuRUs"
      },
      "execution_count": null,
      "outputs": []
    }
  ]
}